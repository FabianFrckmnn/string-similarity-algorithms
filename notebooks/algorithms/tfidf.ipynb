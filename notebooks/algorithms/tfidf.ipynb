{
 "cells": [
  {
   "cell_type": "code",
   "execution_count": null,
   "metadata": {
    "collapsed": true
   },
   "outputs": [],
   "source": [
    "import pandas as pd\n",
    "\n",
    "from concurrent.futures import ThreadPoolExecutor, as_completed\n",
    "from tqdm.notebook import tqdm\n",
    "from sklearn.feature_extraction.text import TfidfVectorizer\n",
    "from sklearn.metrics.pairwise import cosine_similarity\n",
    "\n",
    "from config.config import THRESHOLDS, RAW_DIR, MAX_WORKERS\n",
    "from config.profiler import Profiler\n",
    "from utils.io import export_data_for_validation\n",
    "from utils.format import normalize_text\n",
    "from scripts.datahandler import get_data"
   ]
  },
  {
   "cell_type": "code",
   "execution_count": null,
   "outputs": [],
   "source": [
    "match_tfidf_matrix = None\n",
    "match_original_series = None\n",
    "data_tfidf_matrix = None\n",
    "data_original_series = None"
   ],
   "metadata": {
    "collapsed": false
   }
  },
  {
   "cell_type": "code",
   "execution_count": null,
   "outputs": [],
   "source": [
    "def calculate_best_match(idx):\n",
    "    match_original = match_original_series.iloc[idx]\n",
    "    match_vector = match_tfidf_matrix[idx]\n",
    "\n",
    "    if match_vector.nnz == 0:\n",
    "        return {\n",
    "            \"MATCH\": match_original,\n",
    "            \"BEST_FOUND_MATCH\": None,\n",
    "            \"TRUE_MATCH\": None,\n",
    "            \"BEST_MATCH\": None,\n",
    "        }\n",
    "\n",
    "    similarities = cosine_similarity(match_vector, data_tfidf_matrix).flatten()\n",
    "\n",
    "    max_similarity_idx = similarities.argmax()\n",
    "    max_similarity = similarities[max_similarity_idx]\n",
    "    best_match_original = data_original_series.iloc[max_similarity_idx]\n",
    "\n",
    "    return {\n",
    "        \"MATCH\": match_original,\n",
    "        \"BEST_FOUND_MATCH\": best_match_original,\n",
    "        \"TRUE_MATCH\": None,\n",
    "        \"BEST_MATCH\": max_similarity,\n",
    "    }"
   ],
   "metadata": {
    "collapsed": false
   }
  },
  {
   "cell_type": "code",
   "execution_count": null,
   "outputs": [],
   "source": [
    "TEST_FLAG = False\n",
    "DATA_COLUMN = \"STREET\"\n",
    "MATCH_COLUMN = \"STREET\"\n",
    "MATCH_FILE_NAME = \"847ff2869e9fa08110422d98fe15553a1931fc8d59876977b3ab0f45.csv\"\n",
    "MATCH_FILE = RAW_DIR.joinpath(MATCH_FILE_NAME)\n",
    "\n",
    "DATA, MATCH = get_data(TEST_FLAG, MATCH_FILE)\n",
    "\n",
    "DATA.reset_index(drop=True, inplace=True)\n",
    "MATCH.reset_index(drop=True, inplace=True)"
   ],
   "metadata": {
    "collapsed": false
   }
  },
  {
   "cell_type": "code",
   "execution_count": null,
   "outputs": [],
   "source": [
    "# File specific code\n",
    "...\n",
    "DATA = DATA.assign(STREET=DATA[\"STREET_NAME\"] + \" \" + DATA[\"STREET_NO\"])"
   ],
   "metadata": {
    "collapsed": false
   }
  },
  {
   "cell_type": "code",
   "execution_count": null,
   "outputs": [],
   "source": [
    "DATA[DATA_COLUMN].fillna(\"\", inplace=True)\n",
    "data_norm_series = DATA[DATA_COLUMN].apply(normalize_text)\n",
    "data_original_series = DATA[DATA_COLUMN]\n",
    "\n",
    "MATCH[MATCH_COLUMN].fillna(\"\", inplace=True)\n",
    "match_norm_series = MATCH[MATCH_COLUMN].apply(normalize_text)\n",
    "match_original_series = MATCH[MATCH_COLUMN]"
   ],
   "metadata": {
    "collapsed": false
   }
  },
  {
   "cell_type": "code",
   "execution_count": null,
   "outputs": [],
   "source": [
    "all_texts = pd.concat([data_norm_series, match_norm_series])\n",
    "vectorizer = TfidfVectorizer()\n",
    "vectorizer.fit(all_texts)\n",
    "\n",
    "data_tfidf_matrix = vectorizer.transform(data_norm_series)\n",
    "match_tfidf_matrix = vectorizer.transform(match_norm_series)"
   ],
   "metadata": {
    "collapsed": false
   }
  },
  {
   "cell_type": "code",
   "execution_count": null,
   "outputs": [],
   "source": [
    "indices = MATCH.index.tolist()"
   ],
   "metadata": {
    "collapsed": false
   }
  },
  {
   "cell_type": "code",
   "execution_count": null,
   "outputs": [],
   "source": [
    "def perform_matching():\n",
    "    results = []\n",
    "    with ThreadPoolExecutor(max_workers=MAX_WORKERS) as executor:\n",
    "        futures = {executor.submit(calculate_best_match, idx): idx for idx in indices}\n",
    "        for future in tqdm(as_completed(futures), total=len(futures), desc=\"Matching\", unit=\"match\"):\n",
    "            try:\n",
    "                result = future.result()\n",
    "                results.append(result)\n",
    "            except Exception as e:\n",
    "                print(f\"Exception occurred for index {futures[future]}: {e}\")\n",
    "        return results"
   ],
   "metadata": {
    "collapsed": false
   }
  },
  {
   "cell_type": "code",
   "execution_count": null,
   "outputs": [],
   "source": [
    "prof = Profiler(name=f\"{MATCH_FILE_NAME[:13]}_tfidf\")\n",
    "prof.enable()\n",
    "results = perform_matching()\n",
    "prof.disable()\n",
    "prof.save_show_profile()"
   ],
   "metadata": {
    "collapsed": false
   }
  },
  {
   "cell_type": "code",
   "execution_count": null,
   "outputs": [],
   "source": [
    "results_df = pd.DataFrame(results)\n",
    "results_df[\"BEST_MATCH_BINARY\"] = results_df[\"BEST_MATCH\"] >= THRESHOLDS.tfidf\n",
    "export_data_for_validation(results_df, MATCH_FILE_NAME, DATA_COLUMN, \"TFIDF\")"
   ],
   "metadata": {
    "collapsed": false
   }
  }
 ],
 "metadata": {
  "kernelspec": {
   "display_name": "Python 3",
   "language": "python",
   "name": "python3"
  },
  "language_info": {
   "codemirror_mode": {
    "name": "ipython",
    "version": 2
   },
   "file_extension": ".py",
   "mimetype": "text/x-python",
   "name": "python",
   "nbconvert_exporter": "python",
   "pygments_lexer": "ipython2",
   "version": "2.7.6"
  }
 },
 "nbformat": 4,
 "nbformat_minor": 0
}
