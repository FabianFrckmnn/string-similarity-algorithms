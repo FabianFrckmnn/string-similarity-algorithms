{
 "cells": [
  {
   "cell_type": "code",
   "execution_count": null,
   "metadata": {
    "collapsed": true
   },
   "outputs": [],
   "source": [
    "import pandas as pd\n",
    "import numpy as np\n",
    "\n",
    "from concurrent.futures import ThreadPoolExecutor, as_completed\n",
    "from tqdm.notebook import tqdm\n",
    "from sklearn.feature_extraction.text import CountVectorizer\n",
    "\n",
    "from config.config import THRESHOLDS, RAW_DIR, MAX_WORKERS\n",
    "from config.profiler import Profiler\n",
    "from utils.io import export_data_for_validation\n",
    "from utils.format import normalize_text\n",
    "from scripts.datahandler import get_data"
   ]
  },
  {
   "cell_type": "code",
   "execution_count": null,
   "outputs": [],
   "source": [
    "match_ngrams_matrix = None\n",
    "match_original_series = None\n",
    "data_ngrams_matrix = None\n",
    "data_original_series = None\n",
    "n = 2  # Always bigram for dice coefficient"
   ],
   "metadata": {
    "collapsed": false
   }
  },
  {
   "cell_type": "code",
   "execution_count": null,
   "outputs": [],
   "source": [
    "def dice_coefficient(match_vector, data_vectors):\n",
    "    intersection = data_vectors.multiply(match_vector).sum(axis=1)\n",
    "\n",
    "    match_size = match_vector.sum()\n",
    "    data_sizes = data_vectors.sum(axis=1)\n",
    "\n",
    "    numerator = 2 * intersection\n",
    "    denominator = match_size + data_sizes\n",
    "\n",
    "    with np.errstate(divide=\"ignore\", invalid=\"ignore\"):\n",
    "        dice_coefficients = numerator / denominator\n",
    "        dice_coefficients = np.nan_to_num(dice_coefficients)\n",
    "\n",
    "    return np.asarray(dice_coefficients).flatten()\n",
    "\n",
    "def calculate_best_match(idx):\n",
    "    match_original = match_original_series.iloc[idx]\n",
    "    match_vector = match_ngrams_matrix[idx]\n",
    "\n",
    "    if match_vector.nnz == 0:\n",
    "        return {\n",
    "            \"MATCH\": match_original,\n",
    "            \"BEST_FOUND_MATCH\": None,\n",
    "            \"TRUE_MATCH\": None,\n",
    "            \"BEST_MATCH\": None,\n",
    "        }\n",
    "\n",
    "    dice_coefficients = dice_coefficient(match_vector, data_ngrams_matrix)\n",
    "    max_similarity_idx = dice_coefficients.argmax()\n",
    "    max_similarity = dice_coefficients[max_similarity_idx]\n",
    "    best_match_original = data_original_series.iloc[max_similarity_idx]\n",
    "\n",
    "    return {\n",
    "        \"MATCH\": match_original,\n",
    "        \"BEST_FOUND_MATCH\": best_match_original,\n",
    "        \"TRUE_MATCH\": None,\n",
    "        \"BEST_MATCH\": max_similarity,\n",
    "    }"
   ],
   "metadata": {
    "collapsed": false
   }
  },
  {
   "cell_type": "code",
   "execution_count": null,
   "outputs": [],
   "source": [
    "TEST_FLAG = False\n",
    "DATA_COLUMN = \"FULLNAME\"\n",
    "MATCH_COLUMN = \"FULLNAME\"\n",
    "MATCH_FILE_NAME = \"847ff2869e9fa08110422d98fe15553a1931fc8d59876977b3ab0f45.csv\"\n",
    "MATCH_FILE = RAW_DIR.joinpath(MATCH_FILE_NAME)\n",
    "\n",
    "DATA, MATCH = get_data(TEST_FLAG, MATCH_FILE)\n",
    "\n",
    "DATA.reset_index(drop=True, inplace=True)\n",
    "MATCH.reset_index(drop=True, inplace=True)"
   ],
   "metadata": {
    "collapsed": false
   }
  },
  {
   "cell_type": "code",
   "execution_count": null,
   "outputs": [],
   "source": [
    "# File specific code\n",
    "...\n",
    "# DATA = DATA.assign(STREET=DATA[\"STREET_NAME\"] + \" \" + DATA[\"STREET_NO\"])\n",
    "DATA = DATA.assign(FULLNAME=DATA[\"FIRSTNAME\"] + \" \" + DATA[\"LASTNAME\"])"
   ],
   "metadata": {
    "collapsed": false
   }
  },
  {
   "cell_type": "code",
   "execution_count": null,
   "outputs": [],
   "source": [
    "DATA"
   ],
   "metadata": {
    "collapsed": false
   }
  },
  {
   "cell_type": "code",
   "execution_count": null,
   "outputs": [],
   "source": [
    "DATA[DATA_COLUMN].fillna(\"\", inplace=True)\n",
    "data_norm_series = DATA[DATA_COLUMN].apply(normalize_text)\n",
    "data_original_series = DATA[DATA_COLUMN]\n",
    "\n",
    "MATCH[MATCH_COLUMN].fillna(\"\", inplace=True)\n",
    "match_norm_series = MATCH[MATCH_COLUMN].apply(normalize_text)\n",
    "match_original_series = MATCH[MATCH_COLUMN]"
   ],
   "metadata": {
    "collapsed": false
   }
  },
  {
   "cell_type": "code",
   "execution_count": null,
   "outputs": [],
   "source": [
    "vectorizer = CountVectorizer(analyzer=\"char\", ngram_range=(n, n), binary=False)\n",
    "indices = MATCH.index.tolist()"
   ],
   "metadata": {
    "collapsed": false
   }
  },
  {
   "cell_type": "code",
   "execution_count": null,
   "outputs": [],
   "source": [
    "all_texts = pd.concat([data_norm_series, match_norm_series])\n",
    "vectorizer.fit(all_texts)\n",
    "\n",
    "data_ngrams_matrix = vectorizer.transform(data_norm_series)\n",
    "match_ngrams_matrix = vectorizer.transform(match_norm_series)"
   ],
   "metadata": {
    "collapsed": false
   }
  },
  {
   "cell_type": "code",
   "execution_count": null,
   "outputs": [],
   "source": [
    "def perform_matching():\n",
    "    results = []\n",
    "    with ThreadPoolExecutor(max_workers=MAX_WORKERS) as executor:\n",
    "        futures = {executor.submit(calculate_best_match, idx): idx for idx in indices}\n",
    "        for future in tqdm(as_completed(futures), total=len(futures), desc=\"Matching\", unit=\"match\"):\n",
    "            try:\n",
    "                result = future.result()\n",
    "                results.append(result)\n",
    "            except Exception as e:\n",
    "                print(f\"Exception occurred for index {futures[future]}: {e}\")\n",
    "    return results"
   ],
   "metadata": {
    "collapsed": false
   }
  },
  {
   "cell_type": "code",
   "execution_count": null,
   "outputs": [],
   "source": [
    "prof = Profiler(name=f\"{MATCH_FILE_NAME[:13]}_dice\")\n",
    "prof.enable()\n",
    "results = perform_matching()\n",
    "prof.disable()\n",
    "prof.save_show_profile()"
   ],
   "metadata": {
    "collapsed": false
   }
  },
  {
   "cell_type": "code",
   "execution_count": null,
   "outputs": [],
   "source": [
    "results_df = pd.DataFrame(results)\n",
    "results_df[\"BEST_MATCH_BINARY\"] = results_df[\"BEST_MATCH\"] >= THRESHOLDS.dice\n",
    "export_data_for_validation(results_df, MATCH_FILE_NAME, DATA_COLUMN, \"DICE\")"
   ],
   "metadata": {
    "collapsed": false
   }
  }
 ],
 "metadata": {
  "kernelspec": {
   "display_name": "Python 3",
   "language": "python",
   "name": "python3"
  },
  "language_info": {
   "codemirror_mode": {
    "name": "ipython",
    "version": 2
   },
   "file_extension": ".py",
   "mimetype": "text/x-python",
   "name": "python",
   "nbconvert_exporter": "python",
   "pygments_lexer": "ipython2",
   "version": "2.7.6"
  }
 },
 "nbformat": 4,
 "nbformat_minor": 0
}
