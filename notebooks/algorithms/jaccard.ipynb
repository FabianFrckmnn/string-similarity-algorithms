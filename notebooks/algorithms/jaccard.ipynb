{
 "cells": [
  {
   "cell_type": "code",
   "execution_count": null,
   "metadata": {
    "collapsed": true
   },
   "outputs": [],
   "source": [
    "import pandas as pd\n",
    "import numpy as np\n",
    "\n",
    "from concurrent.futures import ThreadPoolExecutor, as_completed\n",
    "from tqdm.notebook import tqdm\n",
    "from sklearn.feature_extraction.text import CountVectorizer\n",
    "\n",
    "from config.config import THRESHOLDS, RAW_DIR, MAX_WORKERS\n",
    "from config.profiler import Profiler\n",
    "from utils.io import export_data_for_validation\n",
    "from utils.format import normalize_text\n",
    "from scripts.datahandler import get_data"
   ]
  },
  {
   "cell_type": "code",
   "execution_count": null,
   "outputs": [],
   "source": [
    "match_norm_series = None\n",
    "match_original_series = None\n",
    "data_original_series = None\n",
    "data_vectors = None\n",
    "vectorizer = None"
   ],
   "metadata": {
    "collapsed": false
   }
  },
  {
   "cell_type": "code",
   "execution_count": null,
   "outputs": [],
   "source": [
    "def calculate_best_match(idx):\n",
    "    match_original = match_original_series.iloc[idx]\n",
    "    match_norm = match_norm_series.iloc[idx]\n",
    "    s1_clean = match_norm.strip()\n",
    "\n",
    "    if not s1_clean:\n",
    "        return {\n",
    "            \"MATCH\": match_original,\n",
    "            \"BEST_FOUND_MATCH\": None,\n",
    "            \"TRUE_MATCH\": None,\n",
    "            \"BEST_MATCH\": None,\n",
    "        }\n",
    "\n",
    "    match_vector = vectorizer.transform([s1_clean])\n",
    "\n",
    "    intersection = data_vectors.multiply(match_vector).sum(axis=1)\n",
    "    union = data_vectors.sum(axis=1) + match_vector.sum() - intersection\n",
    "\n",
    "    with np.errstate(divide=\"ignore\", invalid=\"ignore\"):\n",
    "        jaccard_similarities = intersection / union\n",
    "        jaccard_similarities = jaccard_similarities.A1\n",
    "        jaccard_similarities = np.nan_to_num(jaccard_similarities)\n",
    "\n",
    "    max_similarity = jaccard_similarities.max()\n",
    "    best_match_idx = jaccard_similarities.argmax()\n",
    "    best_match_original = data_original_series.iloc[best_match_idx]\n",
    "\n",
    "    return {\n",
    "        \"MATCH\": match_original,\n",
    "        \"BEST_FOUND_MATCH\": best_match_original,\n",
    "        \"TRUE_MATCH\": None,\n",
    "        \"BEST_MATCH\": max_similarity,\n",
    "    }"
   ],
   "metadata": {
    "collapsed": false
   }
  },
  {
   "cell_type": "code",
   "execution_count": null,
   "outputs": [],
   "source": [
    "TEST_FLAG = False\n",
    "DATA_COLUMN = \"STREET\"\n",
    "MATCH_COLUMN = \"STREET\"\n",
    "MATCH_FILE_NAME = \"847ff2869e9fa08110422d98fe15553a1931fc8d59876977b3ab0f45.csv\"\n",
    "MATCH_FILE = RAW_DIR.joinpath(MATCH_FILE_NAME)\n",
    "\n",
    "DATA, MATCH = get_data(TEST_FLAG, MATCH_FILE)\n",
    "\n",
    "DATA.reset_index(drop=True, inplace=True)\n",
    "MATCH.reset_index(drop=True, inplace=True)"
   ],
   "metadata": {
    "collapsed": false
   }
  },
  {
   "cell_type": "code",
   "execution_count": null,
   "outputs": [],
   "source": [
    "# File specific code\n",
    "...\n",
    "DATA = DATA.assign(STREET=DATA[\"STREET_NAME\"] + \" \" + DATA[\"STREET_NO\"])\n",
    "DATA"
   ],
   "metadata": {
    "collapsed": false
   }
  },
  {
   "cell_type": "code",
   "execution_count": null,
   "outputs": [],
   "source": [
    "DATA[DATA_COLUMN].fillna(\"\", inplace=True)\n",
    "data_norm_series = DATA[DATA_COLUMN].apply(normalize_text)\n",
    "data_original_series = DATA[DATA_COLUMN]\n",
    "\n",
    "MATCH[MATCH_COLUMN].fillna(\"\", inplace=True)\n",
    "match_norm_series = MATCH[MATCH_COLUMN].apply(normalize_text)\n",
    "match_original_series = MATCH[MATCH_COLUMN]"
   ],
   "metadata": {
    "collapsed": false
   }
  },
  {
   "cell_type": "code",
   "execution_count": null,
   "outputs": [],
   "source": [
    "vectorizer = CountVectorizer(binary=True)\n",
    "indices = MATCH.index.tolist()"
   ],
   "metadata": {
    "collapsed": false
   }
  },
  {
   "cell_type": "code",
   "execution_count": null,
   "outputs": [],
   "source": [
    "vectorizer.fit(data_norm_series)\n",
    "data_vectors = vectorizer.transform(data_norm_series)"
   ],
   "metadata": {
    "collapsed": false
   }
  },
  {
   "cell_type": "code",
   "execution_count": null,
   "outputs": [],
   "source": [
    "def perform_matching():\n",
    "    results = []\n",
    "    with ThreadPoolExecutor(max_workers=MAX_WORKERS) as executor:\n",
    "        futures = {executor.submit(calculate_best_match, idx): idx for idx in indices}\n",
    "        for future in tqdm(as_completed(futures), total=len(futures), desc=\"Matching\", unit=\"match\"):\n",
    "            try:\n",
    "                result = future.result()\n",
    "                results.append(result)\n",
    "            except Exception as e:\n",
    "                print(f\"Exception occurred for index {futures[future]}: {e}\")\n",
    "        return results"
   ],
   "metadata": {
    "collapsed": false
   }
  },
  {
   "cell_type": "code",
   "execution_count": null,
   "outputs": [],
   "source": [
    "prof = Profiler(name=f\"{MATCH_FILE_NAME[:13]}_jaccard\")\n",
    "prof.enable()\n",
    "results = perform_matching()\n",
    "prof.disable()\n",
    "prof.save_show_profile()"
   ],
   "metadata": {
    "collapsed": false
   }
  },
  {
   "cell_type": "code",
   "execution_count": null,
   "outputs": [],
   "source": [
    "results_df = pd.DataFrame(results)\n",
    "results_df[\"BEST_MATCH_BINARY\"] = results_df[\"BEST_MATCH\"] >= THRESHOLDS.jaccard\n",
    "export_data_for_validation(results_df, MATCH_FILE_NAME, DATA_COLUMN, \"JACCARD\")"
   ],
   "metadata": {
    "collapsed": false
   }
  }
 ],
 "metadata": {
  "kernelspec": {
   "display_name": "Python 3",
   "language": "python",
   "name": "python3"
  },
  "language_info": {
   "codemirror_mode": {
    "name": "ipython",
    "version": 2
   },
   "file_extension": ".py",
   "mimetype": "text/x-python",
   "name": "python",
   "nbconvert_exporter": "python",
   "pygments_lexer": "ipython2",
   "version": "2.7.6"
  }
 },
 "nbformat": 4,
 "nbformat_minor": 0
}
