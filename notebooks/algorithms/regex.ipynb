{
 "cells": [
  {
   "cell_type": "code",
   "execution_count": null,
   "metadata": {
    "collapsed": true
   },
   "outputs": [],
   "source": [
    "import re\n",
    "\n",
    "import pandas as pd\n",
    "\n",
    "from concurrent.futures import ThreadPoolExecutor, as_completed\n",
    "from tqdm.notebook import tqdm\n",
    "\n",
    "from config.config import THRESHOLDS, RAW_DIR, MAX_WORKERS\n",
    "from config.profiler import Profiler\n",
    "from utils.io import export_data_for_validation\n",
    "from utils.format import normalize_text\n",
    "from scripts.datahandler import get_data"
   ]
  },
  {
   "cell_type": "code",
   "execution_count": null,
   "outputs": [],
   "source": [
    "match_norm_series = None\n",
    "match_original_series = None\n",
    "data_norm_series = None\n",
    "data_original_series = None"
   ],
   "metadata": {
    "collapsed": false
   }
  },
  {
   "cell_type": "code",
   "execution_count": null,
   "outputs": [],
   "source": [
    "def regex_matching(s1_clean, s2_series):\n",
    "    pattern = re.compile(re.escape(s1_clean), re.IGNORECASE)\n",
    "    return s2_series.str.contains(pattern)\n",
    "\n",
    "\n",
    "def reverse_regex_matching(s1_clean, s2_series):\n",
    "    return s2_series.apply(lambda s2: bool(re.search(re.escape(s2), s1_clean, re.IGNORECASE)))\n",
    "\n",
    "\n",
    "def calculate_best_match(idx):\n",
    "    match_original = match_original_series.iloc[idx]\n",
    "    match_norm = match_norm_series.iloc[idx]\n",
    "    s1_clean = match_norm\n",
    "\n",
    "    s1_in_s2 = regex_matching(s1_clean, data_norm_series)\n",
    "    s2_in_s1 = reverse_regex_matching(s1_clean, data_norm_series)\n",
    "    mask = s1_in_s2 | s2_in_s1\n",
    "    matches = data_original_series[mask]\n",
    "\n",
    "    if not matches.empty:\n",
    "        top_match = matches.iloc[0]\n",
    "        score = True\n",
    "    else:\n",
    "        top_match = None\n",
    "        score = False\n",
    "\n",
    "    return {\n",
    "        \"MATCH\": match_original,\n",
    "        \"BEST_FOUND_MATCH\": top_match,\n",
    "        \"TRUE_MATCH\": None,\n",
    "        \"BEST_MATCH\": score\n",
    "    }"
   ],
   "metadata": {
    "collapsed": false
   }
  },
  {
   "cell_type": "code",
   "execution_count": null,
   "outputs": [],
   "source": [
    "TEST_FLAG = False\n",
    "DATA_COLUMN = \"STREET\"\n",
    "MATCH_COLUMN = \"STREET\"\n",
    "MATCH_FILE_NAME = \"847ff2869e9fa08110422d98fe15553a1931fc8d59876977b3ab0f45.csv\"\n",
    "MATCH_FILE = RAW_DIR.joinpath(MATCH_FILE_NAME)\n",
    "\n",
    "DATA, MATCH = get_data(TEST_FLAG, MATCH_FILE)\n",
    "\n",
    "DATA.reset_index(drop=True, inplace=True)\n",
    "MATCH.reset_index(drop=True, inplace=True)"
   ],
   "metadata": {
    "collapsed": false
   }
  },
  {
   "cell_type": "code",
   "execution_count": null,
   "outputs": [],
   "source": [
    "# File specific code\n",
    "...\n",
    "DATA = DATA.assign(STREET=DATA[\"STREET_NAME\"] + \" \" + DATA[\"STREET_NO\"])"
   ],
   "metadata": {
    "collapsed": false
   }
  },
  {
   "cell_type": "code",
   "execution_count": null,
   "outputs": [],
   "source": [
    "DATA[DATA_COLUMN].fillna(\"\", inplace=True)\n",
    "data_norm_series = DATA[DATA_COLUMN].apply(normalize_text)\n",
    "data_original_series = DATA[DATA_COLUMN]\n",
    "\n",
    "MATCH[MATCH_COLUMN].fillna(\"\", inplace=True)\n",
    "match_norm_series = MATCH[MATCH_COLUMN].apply(normalize_text)\n",
    "match_original_series = MATCH[MATCH_COLUMN]"
   ],
   "metadata": {
    "collapsed": false
   }
  },
  {
   "cell_type": "code",
   "execution_count": null,
   "outputs": [],
   "source": [
    "indices = MATCH.index.tolist()"
   ],
   "metadata": {
    "collapsed": false
   }
  },
  {
   "cell_type": "code",
   "execution_count": null,
   "outputs": [],
   "source": [
    "def perform_matching():\n",
    "    results = []\n",
    "    with ThreadPoolExecutor(max_workers=MAX_WORKERS) as executor:\n",
    "        futures = {executor.submit(calculate_best_match, idx): idx for idx in indices}\n",
    "        for future in tqdm(as_completed(futures), total=len(futures), desc=\"Matching\", unit=\"match\"):\n",
    "            try:\n",
    "                result = future.result()\n",
    "                results.append(result)\n",
    "            except Exception as e:\n",
    "                print(f\"Exception occurred for index {futures[future]}: {e}\")\n",
    "        return results"
   ],
   "metadata": {
    "collapsed": false
   }
  },
  {
   "cell_type": "code",
   "execution_count": null,
   "outputs": [],
   "source": [
    "prof = Profiler(name=f\"{MATCH_FILE_NAME[:13]}_regex\")\n",
    "prof.enable()\n",
    "results = perform_matching()\n",
    "prof.disable()\n",
    "prof.save_show_profile()"
   ],
   "metadata": {
    "collapsed": false,
    "is_executing": true
   }
  },
  {
   "cell_type": "code",
   "execution_count": null,
   "outputs": [],
   "source": [
    "results_df = pd.DataFrame(results)\n",
    "results_df[\"BEST_MATCH_BINARY\"] = results_df[\"BEST_MATCH\"] >= THRESHOLDS.regex\n",
    "export_data_for_validation(results_df, MATCH_FILE_NAME, DATA_COLUMN, \"REGEX\")"
   ],
   "metadata": {
    "collapsed": false,
    "is_executing": true
   }
  }
 ],
 "metadata": {
  "kernelspec": {
   "display_name": "Python 3",
   "language": "python",
   "name": "python3"
  },
  "language_info": {
   "codemirror_mode": {
    "name": "ipython",
    "version": 2
   },
   "file_extension": ".py",
   "mimetype": "text/x-python",
   "name": "python",
   "nbconvert_exporter": "python",
   "pygments_lexer": "ipython2",
   "version": "2.7.6"
  }
 },
 "nbformat": 4,
 "nbformat_minor": 0
}
